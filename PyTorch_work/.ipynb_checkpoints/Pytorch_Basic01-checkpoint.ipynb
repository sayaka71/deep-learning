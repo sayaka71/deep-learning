{
 "cells": [
  {
   "cell_type": "code",
   "execution_count": 1,
   "metadata": {},
   "outputs": [
    {
     "name": "stderr",
     "output_type": "stream",
     "text": [
      "/opt/anaconda3/lib/python3.7/importlib/_bootstrap.py:219: RuntimeWarning: numpy.ufunc size changed, may indicate binary incompatibility. Expected 192 from C header, got 216 from PyObject\n",
      "  return f(*args, **kwds)\n",
      "/opt/anaconda3/lib/python3.7/importlib/_bootstrap.py:219: RuntimeWarning: numpy.ufunc size changed, may indicate binary incompatibility. Expected 192 from C header, got 216 from PyObject\n",
      "  return f(*args, **kwds)\n"
     ]
    }
   ],
   "source": [
    "import torch\n",
    "import torch.nn as nn\n",
    "import numpy as np\n",
    "from sklearn import datasets"
   ]
  },
  {
   "cell_type": "code",
   "execution_count": 3,
   "metadata": {},
   "outputs": [],
   "source": [
    "import matplotlib.pyplot as plt\n",
    "%matplotlib inline"
   ]
  },
  {
   "cell_type": "code",
   "execution_count": 4,
   "metadata": {},
   "outputs": [],
   "source": [
    "X_gen, y_gen = datasets.make_regression(n_samples=100, n_features=1, noise=10, random_state=2)"
   ]
  },
  {
   "cell_type": "code",
   "execution_count": 5,
   "metadata": {},
   "outputs": [],
   "source": [
    "X = torch.from_numpy(X_gen.astype(np.float32))\n",
    "y = torch.from_numpy(y_gen.astype(np.float32))"
   ]
  },
  {
   "cell_type": "code",
   "execution_count": 6,
   "metadata": {},
   "outputs": [
    {
     "data": {
      "text/plain": [
       "<matplotlib.collections.PathCollection at 0x7fa29881e050>"
      ]
     },
     "execution_count": 6,
     "metadata": {},
     "output_type": "execute_result"
    },
    {
     "data": {
      "image/png": "[encoded data removed]",
      "text/plain": [
       "<Figure size 432x288 with 1 Axes>"
      ]
     },
     "metadata": {
      "needs_background": "light"
     },
     "output_type": "display_data"
    }
   ],
   "source": [
    "plt.scatter(X,y)"
   ]
  },
  {
   "cell_type": "code",
   "execution_count": 19,
   "metadata": {},
   "outputs": [
    {
     "data": {
      "text/plain": [
       "BayesianRidge(alpha_1=1e-06, alpha_2=1e-06, compute_score=False, copy_X=True,\n",
       "              fit_intercept=True, lambda_1=1e-06, lambda_2=1e-06, n_iter=300,\n",
       "              normalize=False, tol=0.001, verbose=False)"
      ]
     },
     "execution_count": 19,
     "metadata": {},
     "output_type": "execute_result"
    }
   ],
   "source": [
    "from  sklearn.linear_model import BayesianRidge\n",
    "bays = BayesianRidge()\n",
    "bays.fit(X,y)"
   ]
  },
  {
   "cell_type": "code",
   "execution_count": 20,
   "metadata": {},
   "outputs": [
    {
     "data": {
      "text/plain": [
       "array([59.46765734])"
      ]
     },
     "execution_count": 20,
     "metadata": {},
     "output_type": "execute_result"
    }
   ],
   "source": [
    "bays.coef_"
   ]
  },
  {
   "cell_type": "code",
   "execution_count": 21,
   "metadata": {},
   "outputs": [
    {
     "data": {
      "text/plain": [
       "LinearRegression(copy_X=True, fit_intercept=True, n_jobs=None, normalize=False)"
      ]
     },
     "execution_count": 21,
     "metadata": {},
     "output_type": "execute_result"
    }
   ],
   "source": [
    "from sklearn.linear_model import LinearRegression\n",
    "lr = LinearRegression()\n",
    "lr.fit(X,y)"
   ]
  },
  {
   "cell_type": "code",
   "execution_count": 22,
   "metadata": {},
   "outputs": [
    {
     "data": {
      "text/plain": [
       "array([59.481438], dtype=float32)"
      ]
     },
     "execution_count": 22,
     "metadata": {},
     "output_type": "execute_result"
    }
   ],
   "source": [
    "lr.coef_"
   ]
  },
  {
   "cell_type": "code",
   "execution_count": 23,
   "metadata": {},
   "outputs": [
    {
     "data": {
      "text/plain": [
       "tensor([-4.6354e+01,  7.1543e+01,  8.7662e+01,  3.8984e+01,  5.8920e+01,\n",
       "        -5.4420e+01,  7.7974e+00, -1.5269e+01, -1.4519e+02, -1.9877e+01,\n",
       "         2.7106e+01,  8.9842e+01, -3.8844e+01, -1.2973e+01,  5.1587e+01,\n",
       "        -7.7176e-01,  4.3025e+01, -2.6197e+01,  8.3407e+01,  4.4929e+00,\n",
       "         7.6010e+01, -2.0093e+01, -5.7805e+01, -5.7877e+01,  3.1615e+01,\n",
       "        -6.4642e+01,  3.0859e+01,  3.0379e+01,  3.8811e+01, -8.6218e+01,\n",
       "        -8.4037e+00, -1.4503e+00, -7.9389e+01,  1.2560e+02, -6.6897e+00,\n",
       "         7.8098e+01, -7.9938e+01,  1.1297e+01, -3.3335e+00,  7.6539e+01,\n",
       "        -1.2655e+02, -1.1817e+01, -1.0143e+02,  1.3380e+01, -6.8527e-01,\n",
       "        -2.3991e+01,  7.4705e+01, -2.5761e+01, -3.3145e+01,  6.5615e+01,\n",
       "        -6.7610e+01, -4.0769e+01, -2.2575e+01,  2.9195e+01, -1.0963e+02,\n",
       "         1.0110e+02,  3.5369e+01,  6.1021e+01, -5.5526e+01, -1.1318e+01,\n",
       "         1.0724e+01, -9.2375e+01,  1.1932e+01, -5.4410e+01,  1.0056e+00,\n",
       "        -7.8236e+00,  6.3764e+01, -3.9597e+01, -1.6441e+02, -2.1108e+01,\n",
       "         2.6844e+01,  4.2327e+01, -4.1192e+01, -9.4022e+00, -1.4391e+02,\n",
       "         4.1706e+01, -5.4914e+01, -6.6414e+01, -2.9667e+01,  2.2181e+01,\n",
       "         2.0203e+01, -4.6620e-02, -7.5011e+01,  3.2015e+01,  1.2589e+01,\n",
       "         1.9158e+01, -1.2974e+02, -2.2578e+01,  7.3197e+01,  5.7689e+00,\n",
       "         5.6856e+01, -7.4885e+01,  9.5651e+01, -1.7786e+01,  1.4856e+02,\n",
       "        -1.1288e+02, -1.1724e+02,  3.3164e+01, -1.1898e+01, -8.1558e+00])"
      ]
     },
     "execution_count": 23,
     "metadata": {},
     "output_type": "execute_result"
    }
   ],
   "source": [
    "y"
   ]
  },
  {
   "cell_type": "code",
   "execution_count": 24,
   "metadata": {},
   "outputs": [],
   "source": [
    "y = y.view(-1, 1)"
   ]
  },
  {
   "cell_type": "code",
   "execution_count": 25,
   "metadata": {},
   "outputs": [
    {
     "data": {
      "text/plain": [
       "tensor([[-4.6354e+01],\n",
       "        [ 7.1543e+01],\n",
       "        [ 8.7662e+01],\n",
       "        [ 3.8984e+01],\n",
       "        [ 5.8920e+01],\n",
       "        [-5.4420e+01],\n",
       "        [ 7.7974e+00],\n",
       "        [-1.5269e+01],\n",
       "        [-1.4519e+02],\n",
       "        [-1.9877e+01],\n",
       "        [ 2.7106e+01],\n",
       "        [ 8.9842e+01],\n",
       "        [-3.8844e+01],\n",
       "        [-1.2973e+01],\n",
       "        [ 5.1587e+01],\n",
       "        [-7.7176e-01],\n",
       "        [ 4.3025e+01],\n",
       "        [-2.6197e+01],\n",
       "        [ 8.3407e+01],\n",
       "        [ 4.4929e+00],\n",
       "        [ 7.6010e+01],\n",
       "        [-2.0093e+01],\n",
       "        [-5.7805e+01],\n",
       "        [-5.7877e+01],\n",
       "        [ 3.1615e+01],\n",
       "        [-6.4642e+01],\n",
       "        [ 3.0859e+01],\n",
       "        [ 3.0379e+01],\n",
       "        [ 3.8811e+01],\n",
       "        [-8.6218e+01],\n",
       "        [-8.4037e+00],\n",
       "        [-1.4503e+00],\n",
       "        [-7.9389e+01],\n",
       "        [ 1.2560e+02],\n",
       "        [-6.6897e+00],\n",
       "        [ 7.8098e+01],\n",
       "        [-7.9938e+01],\n",
       "        [ 1.1297e+01],\n",
       "        [-3.3335e+00],\n",
       "        [ 7.6539e+01],\n",
       "        [-1.2655e+02],\n",
       "        [-1.1817e+01],\n",
       "        [-1.0143e+02],\n",
       "        [ 1.3380e+01],\n",
       "        [-6.8527e-01],\n",
       "        [-2.3991e+01],\n",
       "        [ 7.4705e+01],\n",
       "        [-2.5761e+01],\n",
       "        [-3.3145e+01],\n",
       "        [ 6.5615e+01],\n",
       "        [-6.7610e+01],\n",
       "        [-4.0769e+01],\n",
       "        [-2.2575e+01],\n",
       "        [ 2.9195e+01],\n",
       "        [-1.0963e+02],\n",
       "        [ 1.0110e+02],\n",
       "        [ 3.5369e+01],\n",
       "        [ 6.1021e+01],\n",
       "        [-5.5526e+01],\n",
       "        [-1.1318e+01],\n",
       "        [ 1.0724e+01],\n",
       "        [-9.2375e+01],\n",
       "        [ 1.1932e+01],\n",
       "        [-5.4410e+01],\n",
       "        [ 1.0056e+00],\n",
       "        [-7.8236e+00],\n",
       "        [ 6.3764e+01],\n",
       "        [-3.9597e+01],\n",
       "        [-1.6441e+02],\n",
       "        [-2.1108e+01],\n",
       "        [ 2.6844e+01],\n",
       "        [ 4.2327e+01],\n",
       "        [-4.1192e+01],\n",
       "        [-9.4022e+00],\n",
       "        [-1.4391e+02],\n",
       "        [ 4.1706e+01],\n",
       "        [-5.4914e+01],\n",
       "        [-6.6414e+01],\n",
       "        [-2.9667e+01],\n",
       "        [ 2.2181e+01],\n",
       "        [ 2.0203e+01],\n",
       "        [-4.6620e-02],\n",
       "        [-7.5011e+01],\n",
       "        [ 3.2015e+01],\n",
       "        [ 1.2589e+01],\n",
       "        [ 1.9158e+01],\n",
       "        [-1.2974e+02],\n",
       "        [-2.2578e+01],\n",
       "        [ 7.3197e+01],\n",
       "        [ 5.7689e+00],\n",
       "        [ 5.6856e+01],\n",
       "        [-7.4885e+01],\n",
       "        [ 9.5651e+01],\n",
       "        [-1.7786e+01],\n",
       "        [ 1.4856e+02],\n",
       "        [-1.1288e+02],\n",
       "        [-1.1724e+02],\n",
       "        [ 3.3164e+01],\n",
       "        [-1.1898e+01],\n",
       "        [-8.1558e+00]])"
      ]
     },
     "execution_count": 25,
     "metadata": {},
     "output_type": "execute_result"
    }
   ],
   "source": [
    "y"
   ]
  },
  {
   "cell_type": "code",
   "execution_count": 46,
   "metadata": {},
   "outputs": [],
   "source": [
    "model = nn.Linear(1,1)"
   ]
  },
  {
   "cell_type": "code",
   "execution_count": 47,
   "metadata": {},
   "outputs": [],
   "source": [
    "# loss function - Mean square error - \n",
    "criterion = nn.MSELoss()\n",
    "\n",
    "# 最適化アルゴリズム\n",
    "optimizer = torch.optim.SGD(model.parameters(), lr=0.02)"
   ]
  },
  {
   "cell_type": "code",
   "execution_count": 48,
   "metadata": {},
   "outputs": [
    {
     "name": "stdout",
     "output_type": "stream",
     "text": [
      "Epoch: 50, Loss: 138.1376\n",
      "Epoch: 100, Loss: 88.0501\n",
      "Epoch: 150, Loss: 87.2903\n",
      "Epoch: 200, Loss: 87.2764\n",
      "Epoch: 250, Loss: 87.2761\n",
      "Epoch: 300, Loss: 87.2761\n"
     ]
    }
   ],
   "source": [
    "# 学習回数\n",
    "epoch = 300\n",
    "loss_list = []\n",
    "\n",
    "for epoch in range(epoch):\n",
    "    y_pred = model(X)\n",
    "    loss = criterion(y_pred, y)\n",
    "    \n",
    "    optimizer.zero_grad()\n",
    "    loss.backward()\n",
    "    optimizer.step()\n",
    "    \n",
    "    # テンソルをnumpyとかで扱うときは，.itemで変換する\n",
    "    loss_list.append(loss.item())\n",
    "    if (epoch+1) % 50 == 0:\n",
    "        print(f'Epoch: {epoch+1}, Loss: {loss.item():.4f}')"
   ]
  },
  {
   "cell_type": "code",
   "execution_count": 49,
   "metadata": {},
   "outputs": [
    {
     "data": {
      "text/plain": [
       "[3862.32177734375,\n",
       " 3538.3232421875,\n",
       " 3242.348388671875,\n",
       " 2971.955078125,\n",
       " 2724.918212890625,\n",
       " 2499.2060546875,\n",
       " 2292.965087890625,\n",
       " 2104.5029296875,\n",
       " 1932.2757568359375,\n",
       " 1774.87548828125,\n",
       " 1631.0157470703125,\n",
       " 1499.5233154296875,\n",
       " 1379.3265380859375,\n",
       " 1269.448486328125,\n",
       " 1168.99560546875,\n",
       " 1077.1534423828125,\n",
       " 993.1781005859375,\n",
       " 916.3903198242188,\n",
       " 846.1699829101562,\n",
       " 781.9509887695312,\n",
       " 723.2157592773438,\n",
       " 669.49267578125,\n",
       " 620.3502807617188,\n",
       " 575.39453125,\n",
       " 534.2659301757812,\n",
       " 496.6357116699219,\n",
       " 462.2037048339844,\n",
       " 430.6958923339844,\n",
       " 401.8616943359375,\n",
       " 375.4721984863281,\n",
       " 351.31805419921875,\n",
       " 329.2085266113281,\n",
       " 308.96875,\n",
       " 290.439208984375,\n",
       " 273.4739990234375,\n",
       " 257.93994140625,\n",
       " 243.71511840820312,\n",
       " 230.68817138671875,\n",
       " 218.75717163085938,\n",
       " 207.8289794921875,\n",
       " 197.81866455078125,\n",
       " 188.64830017089844,\n",
       " 180.2466583251953,\n",
       " 172.54881286621094,\n",
       " 165.4950408935547,\n",
       " 159.031005859375,\n",
       " 153.10690307617188,\n",
       " 147.6771240234375,\n",
       " 142.70004272460938,\n",
       " 138.13760375976562,\n",
       " 133.95474243164062,\n",
       " 130.11962890625,\n",
       " 126.60309600830078,\n",
       " 123.37835693359375,\n",
       " 120.42094421386719,\n",
       " 117.70850372314453,\n",
       " 115.22048950195312,\n",
       " 112.9381332397461,\n",
       " 110.84429931640625,\n",
       " 108.92315673828125,\n",
       " 107.1603775024414,\n",
       " 105.54275512695312,\n",
       " 104.05821228027344,\n",
       " 102.6956558227539,\n",
       " 101.4449691772461,\n",
       " 100.29684448242188,\n",
       " 99.24281311035156,\n",
       " 98.27507781982422,\n",
       " 97.386474609375,\n",
       " 96.57048034667969,\n",
       " 95.8210678100586,\n",
       " 95.13273620605469,\n",
       " 94.50052642822266,\n",
       " 93.91972351074219,\n",
       " 93.38616180419922,\n",
       " 92.89592742919922,\n",
       " 92.44544982910156,\n",
       " 92.031494140625,\n",
       " 91.65106201171875,\n",
       " 91.30140686035156,\n",
       " 90.98001098632812,\n",
       " 90.68453979492188,\n",
       " 90.41291046142578,\n",
       " 90.16319274902344,\n",
       " 89.93356323242188,\n",
       " 89.72238159179688,\n",
       " 89.52816772460938,\n",
       " 89.34954833984375,\n",
       " 89.18525695800781,\n",
       " 89.03410339355469,\n",
       " 88.89505767822266,\n",
       " 88.76712799072266,\n",
       " 88.64940643310547,\n",
       " 88.54109191894531,\n",
       " 88.44143676757812,\n",
       " 88.34970092773438,\n",
       " 88.26525115966797,\n",
       " 88.18750762939453,\n",
       " 88.1159439086914,\n",
       " 88.0500717163086,\n",
       " 87.98941040039062,\n",
       " 87.93356323242188,\n",
       " 87.88211822509766,\n",
       " 87.83474731445312,\n",
       " 87.79110717773438,\n",
       " 87.75091552734375,\n",
       " 87.71389770507812,\n",
       " 87.6797866821289,\n",
       " 87.64836883544922,\n",
       " 87.61941528320312,\n",
       " 87.59274291992188,\n",
       " 87.56814575195312,\n",
       " 87.54550170898438,\n",
       " 87.52461242675781,\n",
       " 87.5053482055664,\n",
       " 87.48762512207031,\n",
       " 87.47126007080078,\n",
       " 87.45618438720703,\n",
       " 87.44226837158203,\n",
       " 87.42945098876953,\n",
       " 87.41763305664062,\n",
       " 87.40673828125,\n",
       " 87.39668273925781,\n",
       " 87.38740539550781,\n",
       " 87.37884521484375,\n",
       " 87.37095642089844,\n",
       " 87.36367797851562,\n",
       " 87.3569564819336,\n",
       " 87.35073852539062,\n",
       " 87.34506225585938,\n",
       " 87.33977508544922,\n",
       " 87.33491516113281,\n",
       " 87.3304214477539,\n",
       " 87.32627868652344,\n",
       " 87.32243347167969,\n",
       " 87.31890869140625,\n",
       " 87.31564331054688,\n",
       " 87.31262969970703,\n",
       " 87.30985260009766,\n",
       " 87.30728149414062,\n",
       " 87.30492401123047,\n",
       " 87.30272674560547,\n",
       " 87.30071258544922,\n",
       " 87.2988510131836,\n",
       " 87.29712677001953,\n",
       " 87.29553985595703,\n",
       " 87.29405975341797,\n",
       " 87.2927017211914,\n",
       " 87.29145812988281,\n",
       " 87.29029083251953,\n",
       " 87.28921508789062,\n",
       " 87.28822326660156,\n",
       " 87.2873306274414,\n",
       " 87.28646850585938,\n",
       " 87.28570556640625,\n",
       " 87.28498077392578,\n",
       " 87.28430938720703,\n",
       " 87.28369140625,\n",
       " 87.28311157226562,\n",
       " 87.28260040283203,\n",
       " 87.28209686279297,\n",
       " 87.28166198730469,\n",
       " 87.28125,\n",
       " 87.2808609008789,\n",
       " 87.28050994873047,\n",
       " 87.28018188476562,\n",
       " 87.27987670898438,\n",
       " 87.27960205078125,\n",
       " 87.27933502197266,\n",
       " 87.27909088134766,\n",
       " 87.27887725830078,\n",
       " 87.27867126464844,\n",
       " 87.27848815917969,\n",
       " 87.2782974243164,\n",
       " 87.27816772460938,\n",
       " 87.27800750732422,\n",
       " 87.27786254882812,\n",
       " 87.27772521972656,\n",
       " 87.27759552001953,\n",
       " 87.2774887084961,\n",
       " 87.27740478515625,\n",
       " 87.27729797363281,\n",
       " 87.27720642089844,\n",
       " 87.27713775634766,\n",
       " 87.27706146240234,\n",
       " 87.27700805664062,\n",
       " 87.27693176269531,\n",
       " 87.27686309814453,\n",
       " 87.27680969238281,\n",
       " 87.27677917480469,\n",
       " 87.27671813964844,\n",
       " 87.27665710449219,\n",
       " 87.27664184570312,\n",
       " 87.27660369873047,\n",
       " 87.27657318115234,\n",
       " 87.27654266357422,\n",
       " 87.27649688720703,\n",
       " 87.2764663696289,\n",
       " 87.27645874023438,\n",
       " 87.27642822265625,\n",
       " 87.27640533447266,\n",
       " 87.2763900756836,\n",
       " 87.27637481689453,\n",
       " 87.27633666992188,\n",
       " 87.2763442993164,\n",
       " 87.27632904052734,\n",
       " 87.27632141113281,\n",
       " 87.27630615234375,\n",
       " 87.27627563476562,\n",
       " 87.2762680053711,\n",
       " 87.2762680053711,\n",
       " 87.27625274658203,\n",
       " 87.27623748779297,\n",
       " 87.27623748779297,\n",
       " 87.27622985839844,\n",
       " 87.27621459960938,\n",
       " 87.2762222290039,\n",
       " 87.2762222290039,\n",
       " 87.27619934082031,\n",
       " 87.27619171142578,\n",
       " 87.27619934082031,\n",
       " 87.27619171142578,\n",
       " 87.27619171142578,\n",
       " 87.27619934082031,\n",
       " 87.27616882324219,\n",
       " 87.27618408203125,\n",
       " 87.27616882324219,\n",
       " 87.27619171142578,\n",
       " 87.27618408203125,\n",
       " 87.27618408203125,\n",
       " 87.27616119384766,\n",
       " 87.27616119384766,\n",
       " 87.27616119384766,\n",
       " 87.27616119384766,\n",
       " 87.27615356445312,\n",
       " 87.27616119384766,\n",
       " 87.27615356445312,\n",
       " 87.2761459350586,\n",
       " 87.27615356445312,\n",
       " 87.27615356445312,\n",
       " 87.2761459350586,\n",
       " 87.27616119384766,\n",
       " 87.2761459350586,\n",
       " 87.27615356445312,\n",
       " 87.2761459350586,\n",
       " 87.27615356445312,\n",
       " 87.27613067626953,\n",
       " 87.27615356445312,\n",
       " 87.2761459350586,\n",
       " 87.2761459350586,\n",
       " 87.2761459350586,\n",
       " 87.2761459350586,\n",
       " 87.27615356445312,\n",
       " 87.27613067626953,\n",
       " 87.2761459350586,\n",
       " 87.27615356445312,\n",
       " 87.27615356445312,\n",
       " 87.27613067626953,\n",
       " 87.2761459350586,\n",
       " 87.27613067626953,\n",
       " 87.27613067626953,\n",
       " 87.27615356445312,\n",
       " 87.276123046875,\n",
       " 87.27613067626953,\n",
       " 87.2761459350586,\n",
       " 87.27613067626953,\n",
       " 87.2761459350586,\n",
       " 87.2761459350586,\n",
       " 87.2761459350586,\n",
       " 87.27615356445312,\n",
       " 87.27613067626953,\n",
       " 87.27615356445312,\n",
       " 87.2761459350586,\n",
       " 87.2761459350586,\n",
       " 87.27615356445312,\n",
       " 87.27616119384766,\n",
       " 87.27613067626953,\n",
       " 87.2761459350586,\n",
       " 87.27615356445312,\n",
       " 87.27615356445312,\n",
       " 87.2761459350586,\n",
       " 87.2761459350586,\n",
       " 87.2761459350586,\n",
       " 87.27613067626953,\n",
       " 87.27613067626953,\n",
       " 87.2761459350586,\n",
       " 87.27613067626953,\n",
       " 87.27613067626953,\n",
       " 87.27613067626953,\n",
       " 87.276123046875,\n",
       " 87.27613067626953,\n",
       " 87.27613067626953,\n",
       " 87.2761459350586,\n",
       " 87.2761459350586,\n",
       " 87.27613067626953,\n",
       " 87.2761459350586,\n",
       " 87.2761459350586,\n",
       " 87.27613067626953,\n",
       " 87.2761459350586,\n",
       " 87.27613067626953]"
      ]
     },
     "execution_count": 49,
     "metadata": {},
     "output_type": "execute_result"
    }
   ],
   "source": [
    "loss_list"
   ]
  },
  {
   "cell_type": "code",
   "execution_count": 51,
   "metadata": {},
   "outputs": [
    {
     "data": {
      "image/png": "[encoded data removed]",
      "text/plain": [
       "<Figure size 432x288 with 1 Axes>"
      ]
     },
     "metadata": {
      "needs_background": "light"
     },
     "output_type": "display_data"
    }
   ],
   "source": [
    "plt.plot(np.arange(len(loss_list)), loss_list, label='loss')\n",
    "plt.legend();"
   ]
  },
  {
   "cell_type": "code",
   "execution_count": 53,
   "metadata": {},
   "outputs": [
    {
     "data": {
      "image/png": "[encoded data removed]",
      "text/plain": [
       "<Figure size 432x288 with 1 Axes>"
      ]
     },
     "metadata": {
      "needs_background": "light"
     },
     "output_type": "display_data"
    }
   ],
   "source": [
    "# 勾配計算が走らないようにする\n",
    "with torch.no_grad():\n",
    "    # numpyの形に変換する\n",
    "    predicted_y = model(X).detach().numpy()\n",
    "    plt.plot(X_gen, y_gen, 'bo')\n",
    "    plt.plot(X_gen, predicted_y, 'r')"
   ]
  },
  {
   "cell_type": "code",
   "execution_count": 67,
   "metadata": {},
   "outputs": [
    {
     "name": "stdout",
     "output_type": "stream",
     "text": [
      "傾き：Parameter containing:\n",
      "tensor([[59.4812]], requires_grad=True) \n",
      "切片：Parameter containing:\n",
      "tensor([0.2664], requires_grad=True)\n"
     ]
    }
   ],
   "source": [
    "print(f'傾き：{model.weight} \\n切片：{model.bias}')"
   ]
  },
  {
   "cell_type": "code",
   "execution_count": null,
   "metadata": {},
   "outputs": [],
   "source": []
  }
 ],
 "metadata": {
  "kernelspec": {
   "display_name": "Python 3",
   "language": "python",
   "name": "python3"
  },
  "language_info": {
   "codemirror_mode": {
    "name": "ipython",
    "version": 3
   },
   "file_extension": ".py",
   "mimetype": "text/x-python",
   "name": "python",
   "nbconvert_exporter": "python",
   "pygments_lexer": "ipython3",
   "version": "3.7.4"
  }
 },
 "nbformat": 4,
 "nbformat_minor": 4
}
